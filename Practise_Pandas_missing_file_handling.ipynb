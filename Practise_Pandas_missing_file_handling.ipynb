{
 "cells": [
  {
   "cell_type": "code",
   "execution_count": 4,
   "id": "e5e86272",
   "metadata": {},
   "outputs": [
    {
     "data": {
      "text/html": [
       "<div>\n",
       "<style scoped>\n",
       "    .dataframe tbody tr th:only-of-type {\n",
       "        vertical-align: middle;\n",
       "    }\n",
       "\n",
       "    .dataframe tbody tr th {\n",
       "        vertical-align: top;\n",
       "    }\n",
       "\n",
       "    .dataframe thead th {\n",
       "        text-align: right;\n",
       "    }\n",
       "</style>\n",
       "<table border=\"1\" class=\"dataframe\">\n",
       "  <thead>\n",
       "    <tr style=\"text-align: right;\">\n",
       "      <th></th>\n",
       "      <th>Company/Brand</th>\n",
       "      <th>Founded</th>\n",
       "      <th>Headquarters</th>\n",
       "      <th>Sector</th>\n",
       "      <th>What it does</th>\n",
       "      <th>Founder/s</th>\n",
       "      <th>Investor/s</th>\n",
       "      <th>Amount</th>\n",
       "      <th>Stage</th>\n",
       "      <th>Date</th>\n",
       "      <th>Unnamed: 10</th>\n",
       "      <th>Unnamed: 11</th>\n",
       "      <th>Unnamed: 12</th>\n",
       "    </tr>\n",
       "  </thead>\n",
       "  <tbody>\n",
       "    <tr>\n",
       "      <th>0</th>\n",
       "      <td>CollegeDekho</td>\n",
       "      <td>2015.0</td>\n",
       "      <td>Gurgaon</td>\n",
       "      <td>E-learning</td>\n",
       "      <td>Collegedekho.com is Student’s Partner, Friend ...</td>\n",
       "      <td>Ruchir Arora</td>\n",
       "      <td>Disrupt ADQ, QIC</td>\n",
       "      <td>35000000.00</td>\n",
       "      <td>Series B</td>\n",
       "      <td>Dec-21</td>\n",
       "      <td>NaN</td>\n",
       "      <td>NaN</td>\n",
       "      <td>NaN</td>\n",
       "    </tr>\n",
       "    <tr>\n",
       "      <th>1</th>\n",
       "      <td>BOX8</td>\n",
       "      <td>2012.0</td>\n",
       "      <td>Mumbai</td>\n",
       "      <td>Food &amp; Beverages</td>\n",
       "      <td>India's Largest Desi Meals Brand</td>\n",
       "      <td>Anshul Gupta, Amit Raj</td>\n",
       "      <td>Tiger Global</td>\n",
       "      <td>40000000.00</td>\n",
       "      <td>NaN</td>\n",
       "      <td>Dec-21</td>\n",
       "      <td>NaN</td>\n",
       "      <td>NaN</td>\n",
       "      <td>NaN</td>\n",
       "    </tr>\n",
       "    <tr>\n",
       "      <th>2</th>\n",
       "      <td>Simpl</td>\n",
       "      <td>2015.0</td>\n",
       "      <td>Bangalore</td>\n",
       "      <td>Consumer Services</td>\n",
       "      <td>Simpl empowers merchants to build trusted rela...</td>\n",
       "      <td>Nitya, Chaitra Chidanand</td>\n",
       "      <td>Valar Ventures, IA Ventures</td>\n",
       "      <td>40000000.00</td>\n",
       "      <td>Series B</td>\n",
       "      <td>Dec-21</td>\n",
       "      <td>NaN</td>\n",
       "      <td>NaN</td>\n",
       "      <td>NaN</td>\n",
       "    </tr>\n",
       "    <tr>\n",
       "      <th>3</th>\n",
       "      <td>8i Ventures</td>\n",
       "      <td>2018.0</td>\n",
       "      <td>Mumbai</td>\n",
       "      <td>Venture Capital &amp; Private Equity</td>\n",
       "      <td>8i is a Mumbai &amp; Bangalore based early stage f...</td>\n",
       "      <td>Vikram Chachra</td>\n",
       "      <td>NaN</td>\n",
       "      <td>50000000.00</td>\n",
       "      <td>NaN</td>\n",
       "      <td>Dec-21</td>\n",
       "      <td>NaN</td>\n",
       "      <td>NaN</td>\n",
       "      <td>NaN</td>\n",
       "    </tr>\n",
       "    <tr>\n",
       "      <th>4</th>\n",
       "      <td>PayGlocal</td>\n",
       "      <td>2021.0</td>\n",
       "      <td>Bangalore</td>\n",
       "      <td>Financial Services</td>\n",
       "      <td>PayGlocal is a FinTech solving for global paym...</td>\n",
       "      <td>Prachi Dharani, Rohit Sukhija, Yogesh Lokhande</td>\n",
       "      <td>Sequoia Capital India</td>\n",
       "      <td>4900000.00</td>\n",
       "      <td>Series A</td>\n",
       "      <td>Dec-21</td>\n",
       "      <td>NaN</td>\n",
       "      <td>NaN</td>\n",
       "      <td>NaN</td>\n",
       "    </tr>\n",
       "    <tr>\n",
       "      <th>...</th>\n",
       "      <td>...</td>\n",
       "      <td>...</td>\n",
       "      <td>...</td>\n",
       "      <td>...</td>\n",
       "      <td>...</td>\n",
       "      <td>...</td>\n",
       "      <td>...</td>\n",
       "      <td>...</td>\n",
       "      <td>...</td>\n",
       "      <td>...</td>\n",
       "      <td>...</td>\n",
       "      <td>...</td>\n",
       "      <td>...</td>\n",
       "    </tr>\n",
       "    <tr>\n",
       "      <th>1204</th>\n",
       "      <td>HobSpace</td>\n",
       "      <td>2019.0</td>\n",
       "      <td>Mumbai</td>\n",
       "      <td>EdTech</td>\n",
       "      <td>HobSpace is a platform for extra-curricular ac...</td>\n",
       "      <td>Priya Goel Sheth, Harsh Jain</td>\n",
       "      <td>Siddharth Bhaskar Shah, Upsparks</td>\n",
       "      <td>100000.00</td>\n",
       "      <td>Pre-series A1</td>\n",
       "      <td>Jan-21</td>\n",
       "      <td>NaN</td>\n",
       "      <td>NaN</td>\n",
       "      <td>NaN</td>\n",
       "    </tr>\n",
       "    <tr>\n",
       "      <th>1205</th>\n",
       "      <td>DcodeAI</td>\n",
       "      <td>2020.0</td>\n",
       "      <td>New Delhi</td>\n",
       "      <td>EdTech</td>\n",
       "      <td>EMPOWER LEARNERS TO BE FUTURE READY USING AI</td>\n",
       "      <td>Kartik Sharma, Ashish Aggarwal</td>\n",
       "      <td>S Chand</td>\n",
       "      <td>500000.00</td>\n",
       "      <td>NaN</td>\n",
       "      <td>Jan-21</td>\n",
       "      <td>NaN</td>\n",
       "      <td>NaN</td>\n",
       "      <td>NaN</td>\n",
       "    </tr>\n",
       "    <tr>\n",
       "      <th>1206</th>\n",
       "      <td>Biocon Biologics</td>\n",
       "      <td>1978.0</td>\n",
       "      <td>Bangalore</td>\n",
       "      <td>BioTechnology</td>\n",
       "      <td>Biocon is a fully integrated pure play biosimi...</td>\n",
       "      <td>Kiran Mazumdar-Shaw</td>\n",
       "      <td>Goldman Sachs, Tata Capital</td>\n",
       "      <td>70000000.00</td>\n",
       "      <td>NaN</td>\n",
       "      <td>Jan-21</td>\n",
       "      <td>NaN</td>\n",
       "      <td>NaN</td>\n",
       "      <td>NaN</td>\n",
       "    </tr>\n",
       "    <tr>\n",
       "      <th>1207</th>\n",
       "      <td>KiranaKart</td>\n",
       "      <td>2020.0</td>\n",
       "      <td>Mumbai</td>\n",
       "      <td>E-commerce</td>\n",
       "      <td>A better model for instant grocery delivery in...</td>\n",
       "      <td>Kaivalya Vohra, Aadit Palicha</td>\n",
       "      <td>Global Founders Capital</td>\n",
       "      <td>720000.00</td>\n",
       "      <td>Pre-seed</td>\n",
       "      <td>Jan-21</td>\n",
       "      <td>NaN</td>\n",
       "      <td>NaN</td>\n",
       "      <td>NaN</td>\n",
       "    </tr>\n",
       "    <tr>\n",
       "      <th>1208</th>\n",
       "      <td>Meddo</td>\n",
       "      <td>2018.0</td>\n",
       "      <td>Gurgaon</td>\n",
       "      <td>Healthcare</td>\n",
       "      <td>Meddo is an end-to-end medical services provider</td>\n",
       "      <td>Saurabh Kochhar</td>\n",
       "      <td>growX ventures, Venture Gurukool</td>\n",
       "      <td>3000000.00</td>\n",
       "      <td>Pre-series A</td>\n",
       "      <td>Jan-21</td>\n",
       "      <td>NaN</td>\n",
       "      <td>NaN</td>\n",
       "      <td>NaN</td>\n",
       "    </tr>\n",
       "  </tbody>\n",
       "</table>\n",
       "<p>1209 rows × 13 columns</p>\n",
       "</div>"
      ],
      "text/plain": [
       "         Company/Brand  Founded Headquarters  \\\n",
       "0         CollegeDekho   2015.0      Gurgaon   \n",
       "1                 BOX8   2012.0       Mumbai   \n",
       "2                Simpl   2015.0    Bangalore   \n",
       "3          8i Ventures   2018.0       Mumbai   \n",
       "4            PayGlocal   2021.0    Bangalore   \n",
       "...                ...      ...          ...   \n",
       "1204          HobSpace   2019.0       Mumbai   \n",
       "1205           DcodeAI   2020.0    New Delhi   \n",
       "1206  Biocon Biologics   1978.0    Bangalore   \n",
       "1207        KiranaKart   2020.0       Mumbai   \n",
       "1208             Meddo   2018.0      Gurgaon   \n",
       "\n",
       "                                Sector  \\\n",
       "0                           E-learning   \n",
       "1                     Food & Beverages   \n",
       "2                    Consumer Services   \n",
       "3     Venture Capital & Private Equity   \n",
       "4                   Financial Services   \n",
       "...                                ...   \n",
       "1204                            EdTech   \n",
       "1205                            EdTech   \n",
       "1206                     BioTechnology   \n",
       "1207                        E-commerce   \n",
       "1208                        Healthcare   \n",
       "\n",
       "                                           What it does  \\\n",
       "0     Collegedekho.com is Student’s Partner, Friend ...   \n",
       "1                      India's Largest Desi Meals Brand   \n",
       "2     Simpl empowers merchants to build trusted rela...   \n",
       "3     8i is a Mumbai & Bangalore based early stage f...   \n",
       "4     PayGlocal is a FinTech solving for global paym...   \n",
       "...                                                 ...   \n",
       "1204  HobSpace is a platform for extra-curricular ac...   \n",
       "1205       EMPOWER LEARNERS TO BE FUTURE READY USING AI   \n",
       "1206  Biocon is a fully integrated pure play biosimi...   \n",
       "1207  A better model for instant grocery delivery in...   \n",
       "1208   Meddo is an end-to-end medical services provider   \n",
       "\n",
       "                                           Founder/s  \\\n",
       "0                                       Ruchir Arora   \n",
       "1                             Anshul Gupta, Amit Raj   \n",
       "2                           Nitya, Chaitra Chidanand   \n",
       "3                                     Vikram Chachra   \n",
       "4     Prachi Dharani, Rohit Sukhija, Yogesh Lokhande   \n",
       "...                                              ...   \n",
       "1204                    Priya Goel Sheth, Harsh Jain   \n",
       "1205                  Kartik Sharma, Ashish Aggarwal   \n",
       "1206                             Kiran Mazumdar-Shaw   \n",
       "1207                   Kaivalya Vohra, Aadit Palicha   \n",
       "1208                                 Saurabh Kochhar   \n",
       "\n",
       "                            Investor/s       Amount          Stage   Date   \\\n",
       "0                     Disrupt ADQ, QIC  35000000.00       Series B  Dec-21   \n",
       "1                         Tiger Global  40000000.00            NaN  Dec-21   \n",
       "2          Valar Ventures, IA Ventures  40000000.00       Series B  Dec-21   \n",
       "3                                  NaN  50000000.00            NaN  Dec-21   \n",
       "4                Sequoia Capital India   4900000.00       Series A  Dec-21   \n",
       "...                                ...          ...            ...     ...   \n",
       "1204  Siddharth Bhaskar Shah, Upsparks    100000.00  Pre-series A1  Jan-21   \n",
       "1205                           S Chand    500000.00            NaN  Jan-21   \n",
       "1206       Goldman Sachs, Tata Capital  70000000.00            NaN  Jan-21   \n",
       "1207           Global Founders Capital    720000.00       Pre-seed  Jan-21   \n",
       "1208  growX ventures, Venture Gurukool   3000000.00   Pre-series A  Jan-21   \n",
       "\n",
       "      Unnamed: 10  Unnamed: 11  Unnamed: 12  \n",
       "0             NaN          NaN          NaN  \n",
       "1             NaN          NaN          NaN  \n",
       "2             NaN          NaN          NaN  \n",
       "3             NaN          NaN          NaN  \n",
       "4             NaN          NaN          NaN  \n",
       "...           ...          ...          ...  \n",
       "1204          NaN          NaN          NaN  \n",
       "1205          NaN          NaN          NaN  \n",
       "1206          NaN          NaN          NaN  \n",
       "1207          NaN          NaN          NaN  \n",
       "1208          NaN          NaN          NaN  \n",
       "\n",
       "[1209 rows x 13 columns]"
      ]
     },
     "execution_count": 4,
     "metadata": {},
     "output_type": "execute_result"
    }
   ],
   "source": [
    "import pandas as pd\n",
    "df = pd.read_csv(r'C:\\Users\\hp\\Downloads\\Indian Startup.csv')\n",
    "df\n",
    "\n"
   ]
  },
  {
   "cell_type": "code",
   "execution_count": 5,
   "id": "ea3ce078",
   "metadata": {},
   "outputs": [
    {
     "data": {
      "text/plain": [
       "2016.6556291390727"
      ]
     },
     "execution_count": 5,
     "metadata": {},
     "output_type": "execute_result"
    }
   ],
   "source": [
    "df['Founded'].mean()  #Mean absolute data nhi dega"
   ]
  },
  {
   "cell_type": "code",
   "execution_count": 6,
   "id": "14f650f2",
   "metadata": {},
   "outputs": [
    {
     "data": {
      "text/plain": [
       "2018.0"
      ]
     },
     "execution_count": 6,
     "metadata": {},
     "output_type": "execute_result"
    }
   ],
   "source": [
    "df['Founded'].median() #median absolute data deta hai"
   ]
  },
  {
   "cell_type": "code",
   "execution_count": 7,
   "id": "70fd6c16",
   "metadata": {},
   "outputs": [
    {
     "data": {
      "text/plain": [
       "0    2020.0\n",
       "Name: Founded, dtype: float64"
      ]
     },
     "execution_count": 7,
     "metadata": {},
     "output_type": "execute_result"
    }
   ],
   "source": [
    "df['Founded'].mode()"
   ]
  },
  {
   "cell_type": "code",
   "execution_count": 8,
   "id": "c8376d94",
   "metadata": {},
   "outputs": [],
   "source": [
    "#fillna------------>They are use for fill the empty data\n",
    "df.fillna(value = 'hello',inplace = True)"
   ]
  },
  {
   "cell_type": "code",
   "execution_count": 9,
   "id": "9f3bae17",
   "metadata": {},
   "outputs": [
    {
     "data": {
      "text/plain": [
       "Company/Brand    0\n",
       "Founded          0\n",
       "Headquarters     0\n",
       "Sector           0\n",
       "What it does     0\n",
       "Founder/s        0\n",
       "Investor/s       0\n",
       "Amount           0\n",
       "Stage            0\n",
       "Date             0\n",
       "Unnamed: 10      0\n",
       "Unnamed: 11      0\n",
       "Unnamed: 12      0\n",
       "dtype: int64"
      ]
     },
     "execution_count": 9,
     "metadata": {},
     "output_type": "execute_result"
    }
   ],
   "source": [
    "df.isnull().sum()"
   ]
  },
  {
   "cell_type": "code",
   "execution_count": 10,
   "id": "c2a5c96c",
   "metadata": {},
   "outputs": [
    {
     "data": {
      "text/html": [
       "<div>\n",
       "<style scoped>\n",
       "    .dataframe tbody tr th:only-of-type {\n",
       "        vertical-align: middle;\n",
       "    }\n",
       "\n",
       "    .dataframe tbody tr th {\n",
       "        vertical-align: top;\n",
       "    }\n",
       "\n",
       "    .dataframe thead th {\n",
       "        text-align: right;\n",
       "    }\n",
       "</style>\n",
       "<table border=\"1\" class=\"dataframe\">\n",
       "  <thead>\n",
       "    <tr style=\"text-align: right;\">\n",
       "      <th></th>\n",
       "      <th>Company/Brand</th>\n",
       "      <th>Founded</th>\n",
       "      <th>Headquarters</th>\n",
       "      <th>Sector</th>\n",
       "      <th>What it does</th>\n",
       "      <th>Founder/s</th>\n",
       "      <th>Investor/s</th>\n",
       "      <th>Amount</th>\n",
       "      <th>Stage</th>\n",
       "      <th>Date</th>\n",
       "      <th>Unnamed: 10</th>\n",
       "      <th>Unnamed: 11</th>\n",
       "      <th>Unnamed: 12</th>\n",
       "    </tr>\n",
       "  </thead>\n",
       "  <tbody>\n",
       "    <tr>\n",
       "      <th>0</th>\n",
       "      <td>CollegeDekho</td>\n",
       "      <td>2015.0</td>\n",
       "      <td>Gurgaon</td>\n",
       "      <td>E-learning</td>\n",
       "      <td>Collegedekho.com is Student’s Partner, Friend ...</td>\n",
       "      <td>Ruchir Arora</td>\n",
       "      <td>Disrupt ADQ, QIC</td>\n",
       "      <td>35000000.00</td>\n",
       "      <td>Series B</td>\n",
       "      <td>Dec-21</td>\n",
       "      <td>NaN</td>\n",
       "      <td>NaN</td>\n",
       "      <td>NaN</td>\n",
       "    </tr>\n",
       "    <tr>\n",
       "      <th>1</th>\n",
       "      <td>BOX8</td>\n",
       "      <td>2012.0</td>\n",
       "      <td>Mumbai</td>\n",
       "      <td>Food &amp; Beverages</td>\n",
       "      <td>India's Largest Desi Meals Brand</td>\n",
       "      <td>Anshul Gupta, Amit Raj</td>\n",
       "      <td>Tiger Global</td>\n",
       "      <td>40000000.00</td>\n",
       "      <td>NaN</td>\n",
       "      <td>Dec-21</td>\n",
       "      <td>NaN</td>\n",
       "      <td>NaN</td>\n",
       "      <td>NaN</td>\n",
       "    </tr>\n",
       "    <tr>\n",
       "      <th>2</th>\n",
       "      <td>Simpl</td>\n",
       "      <td>2015.0</td>\n",
       "      <td>Bangalore</td>\n",
       "      <td>Consumer Services</td>\n",
       "      <td>Simpl empowers merchants to build trusted rela...</td>\n",
       "      <td>Nitya, Chaitra Chidanand</td>\n",
       "      <td>Valar Ventures, IA Ventures</td>\n",
       "      <td>40000000.00</td>\n",
       "      <td>Series B</td>\n",
       "      <td>Dec-21</td>\n",
       "      <td>NaN</td>\n",
       "      <td>NaN</td>\n",
       "      <td>NaN</td>\n",
       "    </tr>\n",
       "    <tr>\n",
       "      <th>3</th>\n",
       "      <td>8i Ventures</td>\n",
       "      <td>2018.0</td>\n",
       "      <td>Mumbai</td>\n",
       "      <td>Venture Capital &amp; Private Equity</td>\n",
       "      <td>8i is a Mumbai &amp; Bangalore based early stage f...</td>\n",
       "      <td>Vikram Chachra</td>\n",
       "      <td>NaN</td>\n",
       "      <td>50000000.00</td>\n",
       "      <td>NaN</td>\n",
       "      <td>Dec-21</td>\n",
       "      <td>NaN</td>\n",
       "      <td>NaN</td>\n",
       "      <td>NaN</td>\n",
       "    </tr>\n",
       "    <tr>\n",
       "      <th>4</th>\n",
       "      <td>PayGlocal</td>\n",
       "      <td>2021.0</td>\n",
       "      <td>Bangalore</td>\n",
       "      <td>Financial Services</td>\n",
       "      <td>PayGlocal is a FinTech solving for global paym...</td>\n",
       "      <td>Prachi Dharani, Rohit Sukhija, Yogesh Lokhande</td>\n",
       "      <td>Sequoia Capital India</td>\n",
       "      <td>4900000.00</td>\n",
       "      <td>Series A</td>\n",
       "      <td>Dec-21</td>\n",
       "      <td>NaN</td>\n",
       "      <td>NaN</td>\n",
       "      <td>NaN</td>\n",
       "    </tr>\n",
       "    <tr>\n",
       "      <th>...</th>\n",
       "      <td>...</td>\n",
       "      <td>...</td>\n",
       "      <td>...</td>\n",
       "      <td>...</td>\n",
       "      <td>...</td>\n",
       "      <td>...</td>\n",
       "      <td>...</td>\n",
       "      <td>...</td>\n",
       "      <td>...</td>\n",
       "      <td>...</td>\n",
       "      <td>...</td>\n",
       "      <td>...</td>\n",
       "      <td>...</td>\n",
       "    </tr>\n",
       "    <tr>\n",
       "      <th>1204</th>\n",
       "      <td>HobSpace</td>\n",
       "      <td>2019.0</td>\n",
       "      <td>Mumbai</td>\n",
       "      <td>EdTech</td>\n",
       "      <td>HobSpace is a platform for extra-curricular ac...</td>\n",
       "      <td>Priya Goel Sheth, Harsh Jain</td>\n",
       "      <td>Siddharth Bhaskar Shah, Upsparks</td>\n",
       "      <td>100000.00</td>\n",
       "      <td>Pre-series A1</td>\n",
       "      <td>Jan-21</td>\n",
       "      <td>NaN</td>\n",
       "      <td>NaN</td>\n",
       "      <td>NaN</td>\n",
       "    </tr>\n",
       "    <tr>\n",
       "      <th>1205</th>\n",
       "      <td>DcodeAI</td>\n",
       "      <td>2020.0</td>\n",
       "      <td>New Delhi</td>\n",
       "      <td>EdTech</td>\n",
       "      <td>EMPOWER LEARNERS TO BE FUTURE READY USING AI</td>\n",
       "      <td>Kartik Sharma, Ashish Aggarwal</td>\n",
       "      <td>S Chand</td>\n",
       "      <td>500000.00</td>\n",
       "      <td>NaN</td>\n",
       "      <td>Jan-21</td>\n",
       "      <td>NaN</td>\n",
       "      <td>NaN</td>\n",
       "      <td>NaN</td>\n",
       "    </tr>\n",
       "    <tr>\n",
       "      <th>1206</th>\n",
       "      <td>Biocon Biologics</td>\n",
       "      <td>1978.0</td>\n",
       "      <td>Bangalore</td>\n",
       "      <td>BioTechnology</td>\n",
       "      <td>Biocon is a fully integrated pure play biosimi...</td>\n",
       "      <td>Kiran Mazumdar-Shaw</td>\n",
       "      <td>Goldman Sachs, Tata Capital</td>\n",
       "      <td>70000000.00</td>\n",
       "      <td>NaN</td>\n",
       "      <td>Jan-21</td>\n",
       "      <td>NaN</td>\n",
       "      <td>NaN</td>\n",
       "      <td>NaN</td>\n",
       "    </tr>\n",
       "    <tr>\n",
       "      <th>1207</th>\n",
       "      <td>KiranaKart</td>\n",
       "      <td>2020.0</td>\n",
       "      <td>Mumbai</td>\n",
       "      <td>E-commerce</td>\n",
       "      <td>A better model for instant grocery delivery in...</td>\n",
       "      <td>Kaivalya Vohra, Aadit Palicha</td>\n",
       "      <td>Global Founders Capital</td>\n",
       "      <td>720000.00</td>\n",
       "      <td>Pre-seed</td>\n",
       "      <td>Jan-21</td>\n",
       "      <td>NaN</td>\n",
       "      <td>NaN</td>\n",
       "      <td>NaN</td>\n",
       "    </tr>\n",
       "    <tr>\n",
       "      <th>1208</th>\n",
       "      <td>Meddo</td>\n",
       "      <td>2018.0</td>\n",
       "      <td>Gurgaon</td>\n",
       "      <td>Healthcare</td>\n",
       "      <td>Meddo is an end-to-end medical services provider</td>\n",
       "      <td>Saurabh Kochhar</td>\n",
       "      <td>growX ventures, Venture Gurukool</td>\n",
       "      <td>3000000.00</td>\n",
       "      <td>Pre-series A</td>\n",
       "      <td>Jan-21</td>\n",
       "      <td>NaN</td>\n",
       "      <td>NaN</td>\n",
       "      <td>NaN</td>\n",
       "    </tr>\n",
       "  </tbody>\n",
       "</table>\n",
       "<p>1209 rows × 13 columns</p>\n",
       "</div>"
      ],
      "text/plain": [
       "         Company/Brand  Founded Headquarters  \\\n",
       "0         CollegeDekho   2015.0      Gurgaon   \n",
       "1                 BOX8   2012.0       Mumbai   \n",
       "2                Simpl   2015.0    Bangalore   \n",
       "3          8i Ventures   2018.0       Mumbai   \n",
       "4            PayGlocal   2021.0    Bangalore   \n",
       "...                ...      ...          ...   \n",
       "1204          HobSpace   2019.0       Mumbai   \n",
       "1205           DcodeAI   2020.0    New Delhi   \n",
       "1206  Biocon Biologics   1978.0    Bangalore   \n",
       "1207        KiranaKart   2020.0       Mumbai   \n",
       "1208             Meddo   2018.0      Gurgaon   \n",
       "\n",
       "                                Sector  \\\n",
       "0                           E-learning   \n",
       "1                     Food & Beverages   \n",
       "2                    Consumer Services   \n",
       "3     Venture Capital & Private Equity   \n",
       "4                   Financial Services   \n",
       "...                                ...   \n",
       "1204                            EdTech   \n",
       "1205                            EdTech   \n",
       "1206                     BioTechnology   \n",
       "1207                        E-commerce   \n",
       "1208                        Healthcare   \n",
       "\n",
       "                                           What it does  \\\n",
       "0     Collegedekho.com is Student’s Partner, Friend ...   \n",
       "1                      India's Largest Desi Meals Brand   \n",
       "2     Simpl empowers merchants to build trusted rela...   \n",
       "3     8i is a Mumbai & Bangalore based early stage f...   \n",
       "4     PayGlocal is a FinTech solving for global paym...   \n",
       "...                                                 ...   \n",
       "1204  HobSpace is a platform for extra-curricular ac...   \n",
       "1205       EMPOWER LEARNERS TO BE FUTURE READY USING AI   \n",
       "1206  Biocon is a fully integrated pure play biosimi...   \n",
       "1207  A better model for instant grocery delivery in...   \n",
       "1208   Meddo is an end-to-end medical services provider   \n",
       "\n",
       "                                           Founder/s  \\\n",
       "0                                       Ruchir Arora   \n",
       "1                             Anshul Gupta, Amit Raj   \n",
       "2                           Nitya, Chaitra Chidanand   \n",
       "3                                     Vikram Chachra   \n",
       "4     Prachi Dharani, Rohit Sukhija, Yogesh Lokhande   \n",
       "...                                              ...   \n",
       "1204                    Priya Goel Sheth, Harsh Jain   \n",
       "1205                  Kartik Sharma, Ashish Aggarwal   \n",
       "1206                             Kiran Mazumdar-Shaw   \n",
       "1207                   Kaivalya Vohra, Aadit Palicha   \n",
       "1208                                 Saurabh Kochhar   \n",
       "\n",
       "                            Investor/s       Amount          Stage   Date   \\\n",
       "0                     Disrupt ADQ, QIC  35000000.00       Series B  Dec-21   \n",
       "1                         Tiger Global  40000000.00            NaN  Dec-21   \n",
       "2          Valar Ventures, IA Ventures  40000000.00       Series B  Dec-21   \n",
       "3                                  NaN  50000000.00            NaN  Dec-21   \n",
       "4                Sequoia Capital India   4900000.00       Series A  Dec-21   \n",
       "...                                ...          ...            ...     ...   \n",
       "1204  Siddharth Bhaskar Shah, Upsparks    100000.00  Pre-series A1  Jan-21   \n",
       "1205                           S Chand    500000.00            NaN  Jan-21   \n",
       "1206       Goldman Sachs, Tata Capital  70000000.00            NaN  Jan-21   \n",
       "1207           Global Founders Capital    720000.00       Pre-seed  Jan-21   \n",
       "1208  growX ventures, Venture Gurukool   3000000.00   Pre-series A  Jan-21   \n",
       "\n",
       "      Unnamed: 10  Unnamed: 11  Unnamed: 12  \n",
       "0             NaN          NaN          NaN  \n",
       "1             NaN          NaN          NaN  \n",
       "2             NaN          NaN          NaN  \n",
       "3             NaN          NaN          NaN  \n",
       "4             NaN          NaN          NaN  \n",
       "...           ...          ...          ...  \n",
       "1204          NaN          NaN          NaN  \n",
       "1205          NaN          NaN          NaN  \n",
       "1206          NaN          NaN          NaN  \n",
       "1207          NaN          NaN          NaN  \n",
       "1208          NaN          NaN          NaN  \n",
       "\n",
       "[1209 rows x 13 columns]"
      ]
     },
     "execution_count": 10,
     "metadata": {},
     "output_type": "execute_result"
    }
   ],
   "source": [
    "df = pd.read_csv(r'C:\\Users\\hp\\Downloads\\Indian Startup.csv')\n",
    "df"
   ]
  },
  {
   "cell_type": "code",
   "execution_count": 11,
   "id": "004c1f11",
   "metadata": {},
   "outputs": [],
   "source": [
    "df['Founded'].fillna('a',inplace = True)\n"
   ]
  },
  {
   "cell_type": "code",
   "execution_count": 12,
   "id": "e79f425d",
   "metadata": {},
   "outputs": [
    {
     "data": {
      "text/plain": [
       "Company/Brand       0\n",
       "Founded             0\n",
       "Headquarters        1\n",
       "Sector              0\n",
       "What it does        0\n",
       "Founder/s           4\n",
       "Investor/s         63\n",
       "Amount              7\n",
       "Stage             428\n",
       "Date                0\n",
       "Unnamed: 10      1209\n",
       "Unnamed: 11      1209\n",
       "Unnamed: 12      1209\n",
       "dtype: int64"
      ]
     },
     "execution_count": 12,
     "metadata": {},
     "output_type": "execute_result"
    }
   ],
   "source": [
    "df.isnull().sum()  #founded me ohle ek empty vale thi alein uss null value ki jagah ab a aagya "
   ]
  },
  {
   "cell_type": "code",
   "execution_count": 13,
   "id": "ed87a55f",
   "metadata": {},
   "outputs": [],
   "source": [
    "# mean , mode, median"
   ]
  },
  {
   "cell_type": "code",
   "execution_count": 14,
   "id": "4347b8dd",
   "metadata": {},
   "outputs": [
    {
     "ename": "TypeError",
     "evalue": "unsupported operand type(s) for +: 'float' and 'str'",
     "output_type": "error",
     "traceback": [
      "\u001b[1;31m---------------------------------------------------------------------------\u001b[0m",
      "\u001b[1;31mTypeError\u001b[0m                                 Traceback (most recent call last)",
      "Input \u001b[1;32mIn [14]\u001b[0m, in \u001b[0;36m<cell line: 1>\u001b[1;34m()\u001b[0m\n\u001b[1;32m----> 1\u001b[0m mean_found \u001b[38;5;241m=\u001b[39m \u001b[43mdf\u001b[49m\u001b[43m[\u001b[49m\u001b[38;5;124;43m'\u001b[39;49m\u001b[38;5;124;43mFounded\u001b[39;49m\u001b[38;5;124;43m'\u001b[39;49m\u001b[43m]\u001b[49m\u001b[38;5;241;43m.\u001b[39;49m\u001b[43mmean\u001b[49m\u001b[43m(\u001b[49m\u001b[43m)\u001b[49m\n\u001b[0;32m      2\u001b[0m mean_found\n",
      "File \u001b[1;32m~\\anaconda3\\lib\\site-packages\\pandas\\core\\generic.py:11117\u001b[0m, in \u001b[0;36mNDFrame._add_numeric_operations.<locals>.mean\u001b[1;34m(self, axis, skipna, level, numeric_only, **kwargs)\u001b[0m\n\u001b[0;32m  11099\u001b[0m \u001b[38;5;129m@doc\u001b[39m(\n\u001b[0;32m  11100\u001b[0m     _num_doc,\n\u001b[0;32m  11101\u001b[0m     desc\u001b[38;5;241m=\u001b[39m\u001b[38;5;124m\"\u001b[39m\u001b[38;5;124mReturn the mean of the values over the requested axis.\u001b[39m\u001b[38;5;124m\"\u001b[39m,\n\u001b[1;32m   (...)\u001b[0m\n\u001b[0;32m  11115\u001b[0m     \u001b[38;5;241m*\u001b[39m\u001b[38;5;241m*\u001b[39mkwargs,\n\u001b[0;32m  11116\u001b[0m ):\n\u001b[1;32m> 11117\u001b[0m     \u001b[38;5;28;01mreturn\u001b[39;00m NDFrame\u001b[38;5;241m.\u001b[39mmean(\u001b[38;5;28mself\u001b[39m, axis, skipna, level, numeric_only, \u001b[38;5;241m*\u001b[39m\u001b[38;5;241m*\u001b[39mkwargs)\n",
      "File \u001b[1;32m~\\anaconda3\\lib\\site-packages\\pandas\\core\\generic.py:10687\u001b[0m, in \u001b[0;36mNDFrame.mean\u001b[1;34m(self, axis, skipna, level, numeric_only, **kwargs)\u001b[0m\n\u001b[0;32m  10679\u001b[0m \u001b[38;5;28;01mdef\u001b[39;00m \u001b[38;5;21mmean\u001b[39m(\n\u001b[0;32m  10680\u001b[0m     \u001b[38;5;28mself\u001b[39m,\n\u001b[0;32m  10681\u001b[0m     axis: Axis \u001b[38;5;241m|\u001b[39m \u001b[38;5;28;01mNone\u001b[39;00m \u001b[38;5;241m|\u001b[39m lib\u001b[38;5;241m.\u001b[39mNoDefault \u001b[38;5;241m=\u001b[39m lib\u001b[38;5;241m.\u001b[39mno_default,\n\u001b[1;32m   (...)\u001b[0m\n\u001b[0;32m  10685\u001b[0m     \u001b[38;5;241m*\u001b[39m\u001b[38;5;241m*\u001b[39mkwargs,\n\u001b[0;32m  10686\u001b[0m ) \u001b[38;5;241m-\u001b[39m\u001b[38;5;241m>\u001b[39m Series \u001b[38;5;241m|\u001b[39m \u001b[38;5;28mfloat\u001b[39m:\n\u001b[1;32m> 10687\u001b[0m     \u001b[38;5;28;01mreturn\u001b[39;00m \u001b[38;5;28mself\u001b[39m\u001b[38;5;241m.\u001b[39m_stat_function(\n\u001b[0;32m  10688\u001b[0m         \u001b[38;5;124m\"\u001b[39m\u001b[38;5;124mmean\u001b[39m\u001b[38;5;124m\"\u001b[39m, nanops\u001b[38;5;241m.\u001b[39mnanmean, axis, skipna, level, numeric_only, \u001b[38;5;241m*\u001b[39m\u001b[38;5;241m*\u001b[39mkwargs\n\u001b[0;32m  10689\u001b[0m     )\n",
      "File \u001b[1;32m~\\anaconda3\\lib\\site-packages\\pandas\\core\\generic.py:10639\u001b[0m, in \u001b[0;36mNDFrame._stat_function\u001b[1;34m(self, name, func, axis, skipna, level, numeric_only, **kwargs)\u001b[0m\n\u001b[0;32m  10629\u001b[0m     warnings\u001b[38;5;241m.\u001b[39mwarn(\n\u001b[0;32m  10630\u001b[0m         \u001b[38;5;124m\"\u001b[39m\u001b[38;5;124mUsing the level keyword in DataFrame and Series aggregations is \u001b[39m\u001b[38;5;124m\"\u001b[39m\n\u001b[0;32m  10631\u001b[0m         \u001b[38;5;124m\"\u001b[39m\u001b[38;5;124mdeprecated and will be removed in a future version. Use groupby \u001b[39m\u001b[38;5;124m\"\u001b[39m\n\u001b[1;32m   (...)\u001b[0m\n\u001b[0;32m  10634\u001b[0m         stacklevel\u001b[38;5;241m=\u001b[39mfind_stack_level(),\n\u001b[0;32m  10635\u001b[0m     )\n\u001b[0;32m  10636\u001b[0m     \u001b[38;5;28;01mreturn\u001b[39;00m \u001b[38;5;28mself\u001b[39m\u001b[38;5;241m.\u001b[39m_agg_by_level(\n\u001b[0;32m  10637\u001b[0m         name, axis\u001b[38;5;241m=\u001b[39maxis, level\u001b[38;5;241m=\u001b[39mlevel, skipna\u001b[38;5;241m=\u001b[39mskipna, numeric_only\u001b[38;5;241m=\u001b[39mnumeric_only\n\u001b[0;32m  10638\u001b[0m     )\n\u001b[1;32m> 10639\u001b[0m \u001b[38;5;28;01mreturn\u001b[39;00m \u001b[38;5;28;43mself\u001b[39;49m\u001b[38;5;241;43m.\u001b[39;49m\u001b[43m_reduce\u001b[49m\u001b[43m(\u001b[49m\n\u001b[0;32m  10640\u001b[0m \u001b[43m    \u001b[49m\u001b[43mfunc\u001b[49m\u001b[43m,\u001b[49m\u001b[43m \u001b[49m\u001b[43mname\u001b[49m\u001b[38;5;241;43m=\u001b[39;49m\u001b[43mname\u001b[49m\u001b[43m,\u001b[49m\u001b[43m \u001b[49m\u001b[43maxis\u001b[49m\u001b[38;5;241;43m=\u001b[39;49m\u001b[43maxis\u001b[49m\u001b[43m,\u001b[49m\u001b[43m \u001b[49m\u001b[43mskipna\u001b[49m\u001b[38;5;241;43m=\u001b[39;49m\u001b[43mskipna\u001b[49m\u001b[43m,\u001b[49m\u001b[43m \u001b[49m\u001b[43mnumeric_only\u001b[49m\u001b[38;5;241;43m=\u001b[39;49m\u001b[43mnumeric_only\u001b[49m\n\u001b[0;32m  10641\u001b[0m \u001b[43m\u001b[49m\u001b[43m)\u001b[49m\n",
      "File \u001b[1;32m~\\anaconda3\\lib\\site-packages\\pandas\\core\\series.py:4471\u001b[0m, in \u001b[0;36mSeries._reduce\u001b[1;34m(self, op, name, axis, skipna, numeric_only, filter_type, **kwds)\u001b[0m\n\u001b[0;32m   4467\u001b[0m     \u001b[38;5;28;01mraise\u001b[39;00m \u001b[38;5;167;01mNotImplementedError\u001b[39;00m(\n\u001b[0;32m   4468\u001b[0m         \u001b[38;5;124mf\u001b[39m\u001b[38;5;124m\"\u001b[39m\u001b[38;5;124mSeries.\u001b[39m\u001b[38;5;132;01m{\u001b[39;00mname\u001b[38;5;132;01m}\u001b[39;00m\u001b[38;5;124m does not implement \u001b[39m\u001b[38;5;132;01m{\u001b[39;00mkwd_name\u001b[38;5;132;01m}\u001b[39;00m\u001b[38;5;124m.\u001b[39m\u001b[38;5;124m\"\u001b[39m\n\u001b[0;32m   4469\u001b[0m     )\n\u001b[0;32m   4470\u001b[0m \u001b[38;5;28;01mwith\u001b[39;00m np\u001b[38;5;241m.\u001b[39merrstate(\u001b[38;5;28mall\u001b[39m\u001b[38;5;241m=\u001b[39m\u001b[38;5;124m\"\u001b[39m\u001b[38;5;124mignore\u001b[39m\u001b[38;5;124m\"\u001b[39m):\n\u001b[1;32m-> 4471\u001b[0m     \u001b[38;5;28;01mreturn\u001b[39;00m op(delegate, skipna\u001b[38;5;241m=\u001b[39mskipna, \u001b[38;5;241m*\u001b[39m\u001b[38;5;241m*\u001b[39mkwds)\n",
      "File \u001b[1;32m~\\anaconda3\\lib\\site-packages\\pandas\\core\\nanops.py:93\u001b[0m, in \u001b[0;36mdisallow.__call__.<locals>._f\u001b[1;34m(*args, **kwargs)\u001b[0m\n\u001b[0;32m     91\u001b[0m \u001b[38;5;28;01mtry\u001b[39;00m:\n\u001b[0;32m     92\u001b[0m     \u001b[38;5;28;01mwith\u001b[39;00m np\u001b[38;5;241m.\u001b[39merrstate(invalid\u001b[38;5;241m=\u001b[39m\u001b[38;5;124m\"\u001b[39m\u001b[38;5;124mignore\u001b[39m\u001b[38;5;124m\"\u001b[39m):\n\u001b[1;32m---> 93\u001b[0m         \u001b[38;5;28;01mreturn\u001b[39;00m f(\u001b[38;5;241m*\u001b[39margs, \u001b[38;5;241m*\u001b[39m\u001b[38;5;241m*\u001b[39mkwargs)\n\u001b[0;32m     94\u001b[0m \u001b[38;5;28;01mexcept\u001b[39;00m \u001b[38;5;167;01mValueError\u001b[39;00m \u001b[38;5;28;01mas\u001b[39;00m e:\n\u001b[0;32m     95\u001b[0m     \u001b[38;5;66;03m# we want to transform an object array\u001b[39;00m\n\u001b[0;32m     96\u001b[0m     \u001b[38;5;66;03m# ValueError message to the more typical TypeError\u001b[39;00m\n\u001b[0;32m     97\u001b[0m     \u001b[38;5;66;03m# e.g. this is normally a disallowed function on\u001b[39;00m\n\u001b[0;32m     98\u001b[0m     \u001b[38;5;66;03m# object arrays that contain strings\u001b[39;00m\n\u001b[0;32m     99\u001b[0m     \u001b[38;5;28;01mif\u001b[39;00m is_object_dtype(args[\u001b[38;5;241m0\u001b[39m]):\n",
      "File \u001b[1;32m~\\anaconda3\\lib\\site-packages\\pandas\\core\\nanops.py:155\u001b[0m, in \u001b[0;36mbottleneck_switch.__call__.<locals>.f\u001b[1;34m(values, axis, skipna, **kwds)\u001b[0m\n\u001b[0;32m    153\u001b[0m         result \u001b[38;5;241m=\u001b[39m alt(values, axis\u001b[38;5;241m=\u001b[39maxis, skipna\u001b[38;5;241m=\u001b[39mskipna, \u001b[38;5;241m*\u001b[39m\u001b[38;5;241m*\u001b[39mkwds)\n\u001b[0;32m    154\u001b[0m \u001b[38;5;28;01melse\u001b[39;00m:\n\u001b[1;32m--> 155\u001b[0m     result \u001b[38;5;241m=\u001b[39m alt(values, axis\u001b[38;5;241m=\u001b[39maxis, skipna\u001b[38;5;241m=\u001b[39mskipna, \u001b[38;5;241m*\u001b[39m\u001b[38;5;241m*\u001b[39mkwds)\n\u001b[0;32m    157\u001b[0m \u001b[38;5;28;01mreturn\u001b[39;00m result\n",
      "File \u001b[1;32m~\\anaconda3\\lib\\site-packages\\pandas\\core\\nanops.py:410\u001b[0m, in \u001b[0;36m_datetimelike_compat.<locals>.new_func\u001b[1;34m(values, axis, skipna, mask, **kwargs)\u001b[0m\n\u001b[0;32m    407\u001b[0m \u001b[38;5;28;01mif\u001b[39;00m datetimelike \u001b[38;5;129;01mand\u001b[39;00m mask \u001b[38;5;129;01mis\u001b[39;00m \u001b[38;5;28;01mNone\u001b[39;00m:\n\u001b[0;32m    408\u001b[0m     mask \u001b[38;5;241m=\u001b[39m isna(values)\n\u001b[1;32m--> 410\u001b[0m result \u001b[38;5;241m=\u001b[39m func(values, axis\u001b[38;5;241m=\u001b[39maxis, skipna\u001b[38;5;241m=\u001b[39mskipna, mask\u001b[38;5;241m=\u001b[39mmask, \u001b[38;5;241m*\u001b[39m\u001b[38;5;241m*\u001b[39mkwargs)\n\u001b[0;32m    412\u001b[0m \u001b[38;5;28;01mif\u001b[39;00m datetimelike:\n\u001b[0;32m    413\u001b[0m     result \u001b[38;5;241m=\u001b[39m _wrap_results(result, orig_values\u001b[38;5;241m.\u001b[39mdtype, fill_value\u001b[38;5;241m=\u001b[39miNaT)\n",
      "File \u001b[1;32m~\\anaconda3\\lib\\site-packages\\pandas\\core\\nanops.py:698\u001b[0m, in \u001b[0;36mnanmean\u001b[1;34m(values, axis, skipna, mask)\u001b[0m\n\u001b[0;32m    695\u001b[0m     dtype_count \u001b[38;5;241m=\u001b[39m dtype\n\u001b[0;32m    697\u001b[0m count \u001b[38;5;241m=\u001b[39m _get_counts(values\u001b[38;5;241m.\u001b[39mshape, mask, axis, dtype\u001b[38;5;241m=\u001b[39mdtype_count)\n\u001b[1;32m--> 698\u001b[0m the_sum \u001b[38;5;241m=\u001b[39m _ensure_numeric(\u001b[43mvalues\u001b[49m\u001b[38;5;241;43m.\u001b[39;49m\u001b[43msum\u001b[49m\u001b[43m(\u001b[49m\u001b[43maxis\u001b[49m\u001b[43m,\u001b[49m\u001b[43m \u001b[49m\u001b[43mdtype\u001b[49m\u001b[38;5;241;43m=\u001b[39;49m\u001b[43mdtype_sum\u001b[49m\u001b[43m)\u001b[49m)\n\u001b[0;32m    700\u001b[0m \u001b[38;5;28;01mif\u001b[39;00m axis \u001b[38;5;129;01mis\u001b[39;00m \u001b[38;5;129;01mnot\u001b[39;00m \u001b[38;5;28;01mNone\u001b[39;00m \u001b[38;5;129;01mand\u001b[39;00m \u001b[38;5;28mgetattr\u001b[39m(the_sum, \u001b[38;5;124m\"\u001b[39m\u001b[38;5;124mndim\u001b[39m\u001b[38;5;124m\"\u001b[39m, \u001b[38;5;28;01mFalse\u001b[39;00m):\n\u001b[0;32m    701\u001b[0m     count \u001b[38;5;241m=\u001b[39m cast(np\u001b[38;5;241m.\u001b[39mndarray, count)\n",
      "File \u001b[1;32m~\\anaconda3\\lib\\site-packages\\numpy\\core\\_methods.py:48\u001b[0m, in \u001b[0;36m_sum\u001b[1;34m(a, axis, dtype, out, keepdims, initial, where)\u001b[0m\n\u001b[0;32m     46\u001b[0m \u001b[38;5;28;01mdef\u001b[39;00m \u001b[38;5;21m_sum\u001b[39m(a, axis\u001b[38;5;241m=\u001b[39m\u001b[38;5;28;01mNone\u001b[39;00m, dtype\u001b[38;5;241m=\u001b[39m\u001b[38;5;28;01mNone\u001b[39;00m, out\u001b[38;5;241m=\u001b[39m\u001b[38;5;28;01mNone\u001b[39;00m, keepdims\u001b[38;5;241m=\u001b[39m\u001b[38;5;28;01mFalse\u001b[39;00m,\n\u001b[0;32m     47\u001b[0m          initial\u001b[38;5;241m=\u001b[39m_NoValue, where\u001b[38;5;241m=\u001b[39m\u001b[38;5;28;01mTrue\u001b[39;00m):\n\u001b[1;32m---> 48\u001b[0m     \u001b[38;5;28;01mreturn\u001b[39;00m \u001b[43mumr_sum\u001b[49m\u001b[43m(\u001b[49m\u001b[43ma\u001b[49m\u001b[43m,\u001b[49m\u001b[43m \u001b[49m\u001b[43maxis\u001b[49m\u001b[43m,\u001b[49m\u001b[43m \u001b[49m\u001b[43mdtype\u001b[49m\u001b[43m,\u001b[49m\u001b[43m \u001b[49m\u001b[43mout\u001b[49m\u001b[43m,\u001b[49m\u001b[43m \u001b[49m\u001b[43mkeepdims\u001b[49m\u001b[43m,\u001b[49m\u001b[43m \u001b[49m\u001b[43minitial\u001b[49m\u001b[43m,\u001b[49m\u001b[43m \u001b[49m\u001b[43mwhere\u001b[49m\u001b[43m)\u001b[49m\n",
      "\u001b[1;31mTypeError\u001b[0m: unsupported operand type(s) for +: 'float' and 'str'"
     ]
    }
   ],
   "source": [
    "mean_found = df['Founded'].mean()\n",
    "mean_found"
   ]
  },
  {
   "cell_type": "code",
   "execution_count": null,
   "id": "e6ba4c03",
   "metadata": {},
   "outputs": [],
   "source": [
    "median_found = df['Founded'].median()\n",
    "median_found "
   ]
  },
  {
   "cell_type": "code",
   "execution_count": null,
   "id": "20af1ef3",
   "metadata": {},
   "outputs": [],
   "source": [
    "df['Founded'].isnull().sum()"
   ]
  },
  {
   "cell_type": "code",
   "execution_count": null,
   "id": "a363306b",
   "metadata": {},
   "outputs": [],
   "source": [
    "# Founded me ek null value hai ab iss null value ko hume fill karna hai with the help of mean mode and median"
   ]
  },
  {
   "cell_type": "code",
   "execution_count": null,
   "id": "6a853dcf",
   "metadata": {},
   "outputs": [],
   "source": [
    "df['Founded'].fillna(median_found,inplace = True)# isme humne median use isliye kiya kyuki median absolute data deta hain \n",
    "#kaha mode use karna hai kaha meean use karna hai ye khud sochna padega mode categorical data me use hota hai, mean\n",
    "# median numerical value par use hote hai"
   ]
  },
  {
   "cell_type": "code",
   "execution_count": null,
   "id": "9752a35a",
   "metadata": {},
   "outputs": [],
   "source": [
    "df['Founded'].isnull().sum()"
   ]
  },
  {
   "cell_type": "code",
   "execution_count": null,
   "id": "20ff55d5",
   "metadata": {},
   "outputs": [],
   "source": [
    "df['Headquarters'].isnull().sum()"
   ]
  },
  {
   "cell_type": "code",
   "execution_count": null,
   "id": "b04f5b0e",
   "metadata": {},
   "outputs": [],
   "source": [
    "mode_headquar = df['Headquarters'].mode()"
   ]
  },
  {
   "cell_type": "code",
   "execution_count": null,
   "id": "b73dd411",
   "metadata": {},
   "outputs": [],
   "source": [
    "mode_headquar\n"
   ]
  },
  {
   "cell_type": "code",
   "execution_count": null,
   "id": "4c9bb286",
   "metadata": {},
   "outputs": [],
   "source": [
    "df['Headquarters'].fillna(mode_headquar,inplace = True)"
   ]
  },
  {
   "cell_type": "code",
   "execution_count": null,
   "id": "a2d086b9",
   "metadata": {},
   "outputs": [],
   "source": [
    "df['Headquarters'].isnull().sum()"
   ]
  },
  {
   "cell_type": "code",
   "execution_count": null,
   "id": "2e01bdc7",
   "metadata": {},
   "outputs": [],
   "source": [
    "# delete the column\n",
    "# dropna  jis bhi column me null values hongi usko delete kar dega"
   ]
  },
  {
   "cell_type": "code",
   "execution_count": 15,
   "id": "9efadba6",
   "metadata": {},
   "outputs": [
    {
     "data": {
      "text/plain": [
       "<bound method Series.dropna of 0                             E-learning\n",
       "1                       Food & Beverages\n",
       "2                      Consumer Services\n",
       "3       Venture Capital & Private Equity\n",
       "4                     Financial Services\n",
       "                      ...               \n",
       "1204                              EdTech\n",
       "1205                              EdTech\n",
       "1206                       BioTechnology\n",
       "1207                          E-commerce\n",
       "1208                          Healthcare\n",
       "Name: Sector, Length: 1209, dtype: object>"
      ]
     },
     "execution_count": 15,
     "metadata": {},
     "output_type": "execute_result"
    }
   ],
   "source": [
    "df['Sector'].dropna"
   ]
  },
  {
   "cell_type": "code",
   "execution_count": 16,
   "id": "4380736c",
   "metadata": {},
   "outputs": [],
   "source": [
    "# central tendoncy theorem------> It is nothing but mean mode median is used for handling missing values\n",
    "# mean mode median ko hi central tendoncy theorem kehte hai......."
   ]
  },
  {
   "cell_type": "code",
   "execution_count": 17,
   "id": "3a806738",
   "metadata": {},
   "outputs": [
    {
     "data": {
      "text/plain": [
       "428"
      ]
     },
     "execution_count": 17,
     "metadata": {},
     "output_type": "execute_result"
    }
   ],
   "source": [
    "df['Stage'].isnull().sum()"
   ]
  },
  {
   "cell_type": "code",
   "execution_count": 18,
   "id": "3a4dbcd8",
   "metadata": {},
   "outputs": [
    {
     "data": {
      "text/plain": [
       "0    Seed\n",
       "Name: Stage, dtype: object"
      ]
     },
     "execution_count": 18,
     "metadata": {},
     "output_type": "execute_result"
    }
   ],
   "source": [
    "mode_stage = df['Stage'].mode()\n",
    "mode_stage"
   ]
  },
  {
   "cell_type": "code",
   "execution_count": 19,
   "id": "2d0fb023",
   "metadata": {},
   "outputs": [],
   "source": [
    "df['Stage'].fillna(mode_stage,inplace = True)"
   ]
  },
  {
   "cell_type": "code",
   "execution_count": 20,
   "id": "860a9067",
   "metadata": {},
   "outputs": [
    {
     "data": {
      "text/plain": [
       "0            Series B\n",
       "1                 NaN\n",
       "2            Series B\n",
       "3                 NaN\n",
       "4            Series A\n",
       "            ...      \n",
       "1204    Pre-series A1\n",
       "1205              NaN\n",
       "1206              NaN\n",
       "1207         Pre-seed\n",
       "1208     Pre-series A\n",
       "Name: Stage, Length: 1209, dtype: object"
      ]
     },
     "execution_count": 20,
     "metadata": {},
     "output_type": "execute_result"
    }
   ],
   "source": [
    "df['Stage']"
   ]
  },
  {
   "cell_type": "code",
   "execution_count": 21,
   "id": "3129a487",
   "metadata": {},
   "outputs": [],
   "source": [
    "#jab bhi hum mode ke saath use karenge null value ko fill karne ke liye toh hum index value ke saath kaam karenge\n",
    "\n",
    "# jab humne Stage ka mode nikaala to seed aaya uska index 0 par hai "
   ]
  },
  {
   "cell_type": "code",
   "execution_count": 22,
   "id": "5a3b8309",
   "metadata": {},
   "outputs": [],
   "source": [
    "df['Stage'].fillna(mode_stage[0],inplace = True)"
   ]
  },
  {
   "cell_type": "code",
   "execution_count": 23,
   "id": "7ad8496e",
   "metadata": {},
   "outputs": [
    {
     "data": {
      "text/plain": [
       "0            Series B\n",
       "1                Seed\n",
       "2            Series B\n",
       "3                Seed\n",
       "4            Series A\n",
       "            ...      \n",
       "1204    Pre-series A1\n",
       "1205             Seed\n",
       "1206             Seed\n",
       "1207         Pre-seed\n",
       "1208     Pre-series A\n",
       "Name: Stage, Length: 1209, dtype: object"
      ]
     },
     "execution_count": 23,
     "metadata": {},
     "output_type": "execute_result"
    }
   ],
   "source": [
    "df['Stage']"
   ]
  },
  {
   "cell_type": "code",
   "execution_count": 24,
   "id": "2d6aa899",
   "metadata": {},
   "outputs": [
    {
     "data": {
      "text/plain": [
       "0"
      ]
     },
     "execution_count": 24,
     "metadata": {},
     "output_type": "execute_result"
    }
   ],
   "source": [
    "df['Stage'].isnull().sum()"
   ]
  },
  {
   "cell_type": "code",
   "execution_count": 25,
   "id": "fedfe62f",
   "metadata": {},
   "outputs": [],
   "source": [
    "#dropna \n",
    "#agar hmaare pass 10 hazaar rows hai ek column ke andar or usme bhot saari null values hai toh hum dropna ka use karenge \n",
    "# axis 1 ke saath"
   ]
  },
  {
   "cell_type": "code",
   "execution_count": 26,
   "id": "c843f2a3",
   "metadata": {},
   "outputs": [
    {
     "data": {
      "text/html": [
       "<div>\n",
       "<style scoped>\n",
       "    .dataframe tbody tr th:only-of-type {\n",
       "        vertical-align: middle;\n",
       "    }\n",
       "\n",
       "    .dataframe tbody tr th {\n",
       "        vertical-align: top;\n",
       "    }\n",
       "\n",
       "    .dataframe thead th {\n",
       "        text-align: right;\n",
       "    }\n",
       "</style>\n",
       "<table border=\"1\" class=\"dataframe\">\n",
       "  <thead>\n",
       "    <tr style=\"text-align: right;\">\n",
       "      <th></th>\n",
       "      <th>Company/Brand</th>\n",
       "      <th>Founded</th>\n",
       "      <th>Sector</th>\n",
       "      <th>What it does</th>\n",
       "      <th>Stage</th>\n",
       "      <th>Date</th>\n",
       "    </tr>\n",
       "  </thead>\n",
       "  <tbody>\n",
       "    <tr>\n",
       "      <th>0</th>\n",
       "      <td>CollegeDekho</td>\n",
       "      <td>2015.0</td>\n",
       "      <td>E-learning</td>\n",
       "      <td>Collegedekho.com is Student’s Partner, Friend ...</td>\n",
       "      <td>Series B</td>\n",
       "      <td>Dec-21</td>\n",
       "    </tr>\n",
       "    <tr>\n",
       "      <th>1</th>\n",
       "      <td>BOX8</td>\n",
       "      <td>2012.0</td>\n",
       "      <td>Food &amp; Beverages</td>\n",
       "      <td>India's Largest Desi Meals Brand</td>\n",
       "      <td>Seed</td>\n",
       "      <td>Dec-21</td>\n",
       "    </tr>\n",
       "    <tr>\n",
       "      <th>2</th>\n",
       "      <td>Simpl</td>\n",
       "      <td>2015.0</td>\n",
       "      <td>Consumer Services</td>\n",
       "      <td>Simpl empowers merchants to build trusted rela...</td>\n",
       "      <td>Series B</td>\n",
       "      <td>Dec-21</td>\n",
       "    </tr>\n",
       "    <tr>\n",
       "      <th>3</th>\n",
       "      <td>8i Ventures</td>\n",
       "      <td>2018.0</td>\n",
       "      <td>Venture Capital &amp; Private Equity</td>\n",
       "      <td>8i is a Mumbai &amp; Bangalore based early stage f...</td>\n",
       "      <td>Seed</td>\n",
       "      <td>Dec-21</td>\n",
       "    </tr>\n",
       "    <tr>\n",
       "      <th>4</th>\n",
       "      <td>PayGlocal</td>\n",
       "      <td>2021.0</td>\n",
       "      <td>Financial Services</td>\n",
       "      <td>PayGlocal is a FinTech solving for global paym...</td>\n",
       "      <td>Series A</td>\n",
       "      <td>Dec-21</td>\n",
       "    </tr>\n",
       "    <tr>\n",
       "      <th>...</th>\n",
       "      <td>...</td>\n",
       "      <td>...</td>\n",
       "      <td>...</td>\n",
       "      <td>...</td>\n",
       "      <td>...</td>\n",
       "      <td>...</td>\n",
       "    </tr>\n",
       "    <tr>\n",
       "      <th>1204</th>\n",
       "      <td>HobSpace</td>\n",
       "      <td>2019.0</td>\n",
       "      <td>EdTech</td>\n",
       "      <td>HobSpace is a platform for extra-curricular ac...</td>\n",
       "      <td>Pre-series A1</td>\n",
       "      <td>Jan-21</td>\n",
       "    </tr>\n",
       "    <tr>\n",
       "      <th>1205</th>\n",
       "      <td>DcodeAI</td>\n",
       "      <td>2020.0</td>\n",
       "      <td>EdTech</td>\n",
       "      <td>EMPOWER LEARNERS TO BE FUTURE READY USING AI</td>\n",
       "      <td>Seed</td>\n",
       "      <td>Jan-21</td>\n",
       "    </tr>\n",
       "    <tr>\n",
       "      <th>1206</th>\n",
       "      <td>Biocon Biologics</td>\n",
       "      <td>1978.0</td>\n",
       "      <td>BioTechnology</td>\n",
       "      <td>Biocon is a fully integrated pure play biosimi...</td>\n",
       "      <td>Seed</td>\n",
       "      <td>Jan-21</td>\n",
       "    </tr>\n",
       "    <tr>\n",
       "      <th>1207</th>\n",
       "      <td>KiranaKart</td>\n",
       "      <td>2020.0</td>\n",
       "      <td>E-commerce</td>\n",
       "      <td>A better model for instant grocery delivery in...</td>\n",
       "      <td>Pre-seed</td>\n",
       "      <td>Jan-21</td>\n",
       "    </tr>\n",
       "    <tr>\n",
       "      <th>1208</th>\n",
       "      <td>Meddo</td>\n",
       "      <td>2018.0</td>\n",
       "      <td>Healthcare</td>\n",
       "      <td>Meddo is an end-to-end medical services provider</td>\n",
       "      <td>Pre-series A</td>\n",
       "      <td>Jan-21</td>\n",
       "    </tr>\n",
       "  </tbody>\n",
       "</table>\n",
       "<p>1209 rows × 6 columns</p>\n",
       "</div>"
      ],
      "text/plain": [
       "         Company/Brand Founded                            Sector  \\\n",
       "0         CollegeDekho  2015.0                        E-learning   \n",
       "1                 BOX8  2012.0                  Food & Beverages   \n",
       "2                Simpl  2015.0                 Consumer Services   \n",
       "3          8i Ventures  2018.0  Venture Capital & Private Equity   \n",
       "4            PayGlocal  2021.0                Financial Services   \n",
       "...                ...     ...                               ...   \n",
       "1204          HobSpace  2019.0                            EdTech   \n",
       "1205           DcodeAI  2020.0                            EdTech   \n",
       "1206  Biocon Biologics  1978.0                     BioTechnology   \n",
       "1207        KiranaKart  2020.0                        E-commerce   \n",
       "1208             Meddo  2018.0                        Healthcare   \n",
       "\n",
       "                                           What it does          Stage   Date   \n",
       "0     Collegedekho.com is Student’s Partner, Friend ...       Series B  Dec-21  \n",
       "1                      India's Largest Desi Meals Brand           Seed  Dec-21  \n",
       "2     Simpl empowers merchants to build trusted rela...       Series B  Dec-21  \n",
       "3     8i is a Mumbai & Bangalore based early stage f...           Seed  Dec-21  \n",
       "4     PayGlocal is a FinTech solving for global paym...       Series A  Dec-21  \n",
       "...                                                 ...            ...     ...  \n",
       "1204  HobSpace is a platform for extra-curricular ac...  Pre-series A1  Jan-21  \n",
       "1205       EMPOWER LEARNERS TO BE FUTURE READY USING AI           Seed  Jan-21  \n",
       "1206  Biocon is a fully integrated pure play biosimi...           Seed  Jan-21  \n",
       "1207  A better model for instant grocery delivery in...       Pre-seed  Jan-21  \n",
       "1208   Meddo is an end-to-end medical services provider   Pre-series A  Jan-21  \n",
       "\n",
       "[1209 rows x 6 columns]"
      ]
     },
     "execution_count": 26,
     "metadata": {},
     "output_type": "execute_result"
    }
   ],
   "source": [
    "df.dropna(axis=1)"
   ]
  },
  {
   "cell_type": "code",
   "execution_count": 27,
   "id": "29e01470",
   "metadata": {},
   "outputs": [
    {
     "data": {
      "text/plain": [
       "0       35000000.00\n",
       "1       40000000.00\n",
       "2       40000000.00\n",
       "3       50000000.00\n",
       "4        4900000.00\n",
       "           ...     \n",
       "1204      100000.00\n",
       "1205      500000.00\n",
       "1206    70000000.00\n",
       "1207      720000.00\n",
       "1208     3000000.00\n",
       "Name: Amount, Length: 1202, dtype: object"
      ]
     },
     "execution_count": 27,
     "metadata": {},
     "output_type": "execute_result"
    }
   ],
   "source": [
    "df['Amount'].dropna(axis = 0)  # yaha par humne ek column ko pakda or uss column par kaam kar rhe hai toh \n",
    "# vo column series me aajayega or us ke liye axis zero ka use karenge"
   ]
  },
  {
   "cell_type": "code",
   "execution_count": 28,
   "id": "7c8b2ad0",
   "metadata": {},
   "outputs": [
    {
     "data": {
      "text/plain": [
       "7"
      ]
     },
     "execution_count": 28,
     "metadata": {},
     "output_type": "execute_result"
    }
   ],
   "source": [
    "df['Amount'].isnull().sum()"
   ]
  },
  {
   "cell_type": "code",
   "execution_count": null,
   "id": "5480f759",
   "metadata": {},
   "outputs": [],
   "source": [
    "#drp kaam nhi kar rha iss method se  agar hum ek column ko pakad ke kaam kare"
   ]
  },
  {
   "cell_type": "code",
   "execution_count": null,
   "id": "d0954923",
   "metadata": {},
   "outputs": [],
   "source": []
  }
 ],
 "metadata": {
  "kernelspec": {
   "display_name": "Python 3 (ipykernel)",
   "language": "python",
   "name": "python3"
  },
  "language_info": {
   "codemirror_mode": {
    "name": "ipython",
    "version": 3
   },
   "file_extension": ".py",
   "mimetype": "text/x-python",
   "name": "python",
   "nbconvert_exporter": "python",
   "pygments_lexer": "ipython3",
   "version": "3.9.12"
  }
 },
 "nbformat": 4,
 "nbformat_minor": 5
}
