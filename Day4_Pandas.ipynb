{
 "cells": [
  {
   "cell_type": "code",
   "execution_count": 1,
   "id": "8c219a86",
   "metadata": {},
   "outputs": [],
   "source": [
    "# analyse the data according to the question.\n",
    "\n",
    "# 1. try to get atleast 6 the sample of this data.\n",
    "\n",
    "# 2. find top 10 cars having highest selling price.\n",
    "\n",
    "# 3. find bottom 1 cars having lowest selling price.\n",
    "\n",
    "# 4. which owner owns 'Toyota Innova 2.5 VX (Diesel) 8 Seater BS IV' .\n",
    "\n",
    "# 5. according to selling price of top 10 car tell the transmission of the car.\n",
    "\n",
    "# 6. tell me the year of the car in which transmission is manual."
   ]
  },
  {
   "cell_type": "code",
   "execution_count": 6,
   "id": "505ed355",
   "metadata": {},
   "outputs": [
    {
     "data": {
      "text/html": [
       "<div>\n",
       "<style scoped>\n",
       "    .dataframe tbody tr th:only-of-type {\n",
       "        vertical-align: middle;\n",
       "    }\n",
       "\n",
       "    .dataframe tbody tr th {\n",
       "        vertical-align: top;\n",
       "    }\n",
       "\n",
       "    .dataframe thead th {\n",
       "        text-align: right;\n",
       "    }\n",
       "</style>\n",
       "<table border=\"1\" class=\"dataframe\">\n",
       "  <thead>\n",
       "    <tr style=\"text-align: right;\">\n",
       "      <th></th>\n",
       "      <th>name</th>\n",
       "      <th>year</th>\n",
       "      <th>selling_price</th>\n",
       "      <th>km_driven</th>\n",
       "      <th>fuel</th>\n",
       "      <th>seller_type</th>\n",
       "      <th>transmission</th>\n",
       "      <th>owner</th>\n",
       "    </tr>\n",
       "  </thead>\n",
       "  <tbody>\n",
       "    <tr>\n",
       "      <th>0</th>\n",
       "      <td>Maruti Omni CNG</td>\n",
       "      <td>2007</td>\n",
       "      <td>45000</td>\n",
       "      <td>100000</td>\n",
       "      <td>CNG</td>\n",
       "      <td>Individual</td>\n",
       "      <td>Manual</td>\n",
       "      <td>Fourth &amp; Above Owner</td>\n",
       "    </tr>\n",
       "    <tr>\n",
       "      <th>1</th>\n",
       "      <td>Maruti Alto Green LXi (CNG)</td>\n",
       "      <td>2010</td>\n",
       "      <td>88000</td>\n",
       "      <td>80251</td>\n",
       "      <td>CNG</td>\n",
       "      <td>Dealer</td>\n",
       "      <td>Manual</td>\n",
       "      <td>Second Owner</td>\n",
       "    </tr>\n",
       "    <tr>\n",
       "      <th>2</th>\n",
       "      <td>Hyundai Santro Xing GL PLUS CNG</td>\n",
       "      <td>2007</td>\n",
       "      <td>90000</td>\n",
       "      <td>80000</td>\n",
       "      <td>CNG</td>\n",
       "      <td>Individual</td>\n",
       "      <td>Manual</td>\n",
       "      <td>Third Owner</td>\n",
       "    </tr>\n",
       "    <tr>\n",
       "      <th>3</th>\n",
       "      <td>Maruti Zen Estilo LXI Green (CNG)</td>\n",
       "      <td>2010</td>\n",
       "      <td>110000</td>\n",
       "      <td>80000</td>\n",
       "      <td>CNG</td>\n",
       "      <td>Individual</td>\n",
       "      <td>Manual</td>\n",
       "      <td>Fourth &amp; Above Owner</td>\n",
       "    </tr>\n",
       "    <tr>\n",
       "      <th>4</th>\n",
       "      <td>Hyundai Santro Xing GLS CNG</td>\n",
       "      <td>2010</td>\n",
       "      <td>130000</td>\n",
       "      <td>98000</td>\n",
       "      <td>CNG</td>\n",
       "      <td>Individual</td>\n",
       "      <td>Manual</td>\n",
       "      <td>Second Owner</td>\n",
       "    </tr>\n",
       "    <tr>\n",
       "      <th>...</th>\n",
       "      <td>...</td>\n",
       "      <td>...</td>\n",
       "      <td>...</td>\n",
       "      <td>...</td>\n",
       "      <td>...</td>\n",
       "      <td>...</td>\n",
       "      <td>...</td>\n",
       "      <td>...</td>\n",
       "    </tr>\n",
       "    <tr>\n",
       "      <th>4335</th>\n",
       "      <td>Audi A4 30 TFSI Technology</td>\n",
       "      <td>2018</td>\n",
       "      <td>3100000</td>\n",
       "      <td>22000</td>\n",
       "      <td>Petrol</td>\n",
       "      <td>Individual</td>\n",
       "      <td>Automatic</td>\n",
       "      <td>First Owner</td>\n",
       "    </tr>\n",
       "    <tr>\n",
       "      <th>4336</th>\n",
       "      <td>Land Rover Discovery S 2.0 SD4</td>\n",
       "      <td>2018</td>\n",
       "      <td>4000000</td>\n",
       "      <td>68000</td>\n",
       "      <td>Petrol</td>\n",
       "      <td>Individual</td>\n",
       "      <td>Automatic</td>\n",
       "      <td>First Owner</td>\n",
       "    </tr>\n",
       "    <tr>\n",
       "      <th>4337</th>\n",
       "      <td>Mercedes-Benz E-Class Exclusive E 200 BSIV</td>\n",
       "      <td>2018</td>\n",
       "      <td>4500000</td>\n",
       "      <td>9800</td>\n",
       "      <td>Petrol</td>\n",
       "      <td>Dealer</td>\n",
       "      <td>Automatic</td>\n",
       "      <td>First Owner</td>\n",
       "    </tr>\n",
       "    <tr>\n",
       "      <th>4338</th>\n",
       "      <td>Mercedes-Benz E-Class Exclusive E 200 BSIV</td>\n",
       "      <td>2018</td>\n",
       "      <td>4500000</td>\n",
       "      <td>9800</td>\n",
       "      <td>Petrol</td>\n",
       "      <td>Dealer</td>\n",
       "      <td>Automatic</td>\n",
       "      <td>First Owner</td>\n",
       "    </tr>\n",
       "    <tr>\n",
       "      <th>4339</th>\n",
       "      <td>Audi RS7 2015-2019 Sportback Performance</td>\n",
       "      <td>2016</td>\n",
       "      <td>8900000</td>\n",
       "      <td>13000</td>\n",
       "      <td>Petrol</td>\n",
       "      <td>Dealer</td>\n",
       "      <td>Automatic</td>\n",
       "      <td>First Owner</td>\n",
       "    </tr>\n",
       "  </tbody>\n",
       "</table>\n",
       "<p>4340 rows × 8 columns</p>\n",
       "</div>"
      ],
      "text/plain": [
       "                                            name  year  selling_price  \\\n",
       "0                                Maruti Omni CNG  2007          45000   \n",
       "1                    Maruti Alto Green LXi (CNG)  2010          88000   \n",
       "2                Hyundai Santro Xing GL PLUS CNG  2007          90000   \n",
       "3              Maruti Zen Estilo LXI Green (CNG)  2010         110000   \n",
       "4                    Hyundai Santro Xing GLS CNG  2010         130000   \n",
       "...                                          ...   ...            ...   \n",
       "4335                  Audi A4 30 TFSI Technology  2018        3100000   \n",
       "4336              Land Rover Discovery S 2.0 SD4  2018        4000000   \n",
       "4337  Mercedes-Benz E-Class Exclusive E 200 BSIV  2018        4500000   \n",
       "4338  Mercedes-Benz E-Class Exclusive E 200 BSIV  2018        4500000   \n",
       "4339    Audi RS7 2015-2019 Sportback Performance  2016        8900000   \n",
       "\n",
       "      km_driven    fuel seller_type transmission                 owner  \n",
       "0        100000     CNG  Individual       Manual  Fourth & Above Owner  \n",
       "1         80251     CNG      Dealer       Manual          Second Owner  \n",
       "2         80000     CNG  Individual       Manual           Third Owner  \n",
       "3         80000     CNG  Individual       Manual  Fourth & Above Owner  \n",
       "4         98000     CNG  Individual       Manual          Second Owner  \n",
       "...         ...     ...         ...          ...                   ...  \n",
       "4335      22000  Petrol  Individual    Automatic           First Owner  \n",
       "4336      68000  Petrol  Individual    Automatic           First Owner  \n",
       "4337       9800  Petrol      Dealer    Automatic           First Owner  \n",
       "4338       9800  Petrol      Dealer    Automatic           First Owner  \n",
       "4339      13000  Petrol      Dealer    Automatic           First Owner  \n",
       "\n",
       "[4340 rows x 8 columns]"
      ]
     },
     "execution_count": 6,
     "metadata": {},
     "output_type": "execute_result"
    }
   ],
   "source": [
    "import pandas as pd\n",
    "df = pd.read_csv(r'C:\\Users\\hp\\Downloads\\CAR DETAILS FROM CAR DEKHO.csv')\n",
    "df"
   ]
  },
  {
   "cell_type": "code",
   "execution_count": null,
   "id": "51f4f5de",
   "metadata": {},
   "outputs": [],
   "source": [
    "df.columns"
   ]
  },
  {
   "cell_type": "code",
   "execution_count": null,
   "id": "a633e6e7",
   "metadata": {},
   "outputs": [],
   "source": [
    "df[df['fuel']=='Diesel'][['name','year','fuel']]\n",
    "\n"
   ]
  },
  {
   "cell_type": "code",
   "execution_count": null,
   "id": "febad94f",
   "metadata": {},
   "outputs": [],
   "source": [
    "df.isnull().sum().sum()"
   ]
  },
  {
   "cell_type": "code",
   "execution_count": null,
   "id": "4af22708",
   "metadata": {},
   "outputs": [],
   "source": [
    "df.sample(10)"
   ]
  },
  {
   "cell_type": "code",
   "execution_count": null,
   "id": "70e49ca4",
   "metadata": {},
   "outputs": [],
   "source": [
    "# 2. find top 10 cars having highest selling price.\n",
    "df[['selling_price','name']]"
   ]
  },
  {
   "cell_type": "code",
   "execution_count": null,
   "id": "0488809f",
   "metadata": {},
   "outputs": [],
   "source": [
    "df['selling_price'].max()\n",
    "\n"
   ]
  },
  {
   "cell_type": "code",
   "execution_count": null,
   "id": "de7138f0",
   "metadata": {},
   "outputs": [],
   "source": [
    "highest_price = df['selling_price'].max()\n",
    "highest_price\n",
    "\n"
   ]
  },
  {
   "cell_type": "code",
   "execution_count": null,
   "id": "d3bab853",
   "metadata": {},
   "outputs": [],
   "source": [
    "df[df['selling_price']==df['selling_price'].max()][['name','selling_price']]"
   ]
  },
  {
   "cell_type": "code",
   "execution_count": null,
   "id": "8646d7b0",
   "metadata": {},
   "outputs": [],
   "source": [
    "# 3. find bottom 1 cars having lowest selling price.\n",
    "\n",
    "df[df['selling_price']==df['selling_price'].min()][['name','selling_price','owner']]"
   ]
  },
  {
   "cell_type": "code",
   "execution_count": null,
   "id": "684100a1",
   "metadata": {},
   "outputs": [],
   "source": [
    "# 4. which owner owns 'Toyota Innova 2.5 VX (Diesel) 8 Seater BS IV' .\n",
    "\n",
    "df[df['name']=='Toyota Innova 2.5 VX (Diesel) 8 Seater BS IV'][['owner','selling_price','name']]\n",
    "\n"
   ]
  },
  {
   "cell_type": "code",
   "execution_count": null,
   "id": "050bdd28",
   "metadata": {},
   "outputs": [],
   "source": [
    "# 5. according to selling price of top 10 car tell the transmission of the car.\n",
    "df[df['selling_price']==df['selling_price'].max()][['name','transmission']]"
   ]
  },
  {
   "cell_type": "code",
   "execution_count": null,
   "id": "45b54035",
   "metadata": {},
   "outputs": [],
   "source": [
    "# 6. tell me the year of the car in which transmission is manual.\n",
    "df[df['transmission']=='Manual'][['name','year','transmission']]"
   ]
  },
  {
   "cell_type": "code",
   "execution_count": null,
   "id": "ad0bf857",
   "metadata": {},
   "outputs": [],
   "source": [
    "df.columns"
   ]
  },
  {
   "cell_type": "code",
   "execution_count": null,
   "id": "9e6d7829",
   "metadata": {},
   "outputs": [],
   "source": [
    "df[(df['transmission']=='Manual')& (df['fuel']=='Diesel')][['name','year','transmission','fuel']]"
   ]
  },
  {
   "cell_type": "code",
   "execution_count": null,
   "id": "81a72cd9",
   "metadata": {},
   "outputs": [],
   "source": [
    "df.shape[0]"
   ]
  },
  {
   "cell_type": "code",
   "execution_count": null,
   "id": "10823b48",
   "metadata": {},
   "outputs": [],
   "source": [
    "import pandas as pd\n",
    "df = pd.read_csv(r'C:\\Users\\hp\\Downloads\\Indian Startup.csv')\n",
    "df"
   ]
  },
  {
   "cell_type": "code",
   "execution_count": null,
   "id": "531eb9dd",
   "metadata": {},
   "outputs": [],
   "source": [
    "df.isnull().sum().sum()"
   ]
  },
  {
   "cell_type": "code",
   "execution_count": null,
   "id": "6d18301e",
   "metadata": {},
   "outputs": [],
   "source": [
    "df.columns"
   ]
  },
  {
   "cell_type": "code",
   "execution_count": null,
   "id": "67acf3f3",
   "metadata": {},
   "outputs": [],
   "source": [
    "df.shape"
   ]
  },
  {
   "cell_type": "code",
   "execution_count": null,
   "id": "a88a1e1f",
   "metadata": {},
   "outputs": [],
   "source": [
    "df.shape[]"
   ]
  },
  {
   "cell_type": "code",
   "execution_count": null,
   "id": "9645180e",
   "metadata": {},
   "outputs": [],
   "source": []
  }
 ],
 "metadata": {
  "kernelspec": {
   "display_name": "Python 3 (ipykernel)",
   "language": "python",
   "name": "python3"
  },
  "language_info": {
   "codemirror_mode": {
    "name": "ipython",
    "version": 3
   },
   "file_extension": ".py",
   "mimetype": "text/x-python",
   "name": "python",
   "nbconvert_exporter": "python",
   "pygments_lexer": "ipython3",
   "version": "3.9.12"
  }
 },
 "nbformat": 4,
 "nbformat_minor": 5
}
